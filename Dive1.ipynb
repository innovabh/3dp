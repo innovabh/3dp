{
  "nbformat": 4,
  "nbformat_minor": 0,
  "metadata": {
    "colab": {
      "provenance": [],
      "authorship_tag": "ABX9TyOaeb1p4ShmRx1c0aMxTOfy",
      "include_colab_link": true
    },
    "kernelspec": {
      "name": "python3",
      "display_name": "Python 3"
    },
    "language_info": {
      "name": "python"
    }
  },
  "cells": [
    {
      "cell_type": "markdown",
      "metadata": {
        "id": "view-in-github",
        "colab_type": "text"
      },
      "source": [
        "<a href=\"https://colab.research.google.com/github/innovabh/3dp/blob/main/Dive1.ipynb\" target=\"_parent\"><img src=\"https://colab.research.google.com/assets/colab-badge.svg\" alt=\"Open In Colab\"/></a>"
      ]
    },
    {
      "cell_type": "code",
      "execution_count": 1,
      "metadata": {
        "colab": {
          "base_uri": "https://localhost:8080/"
        },
        "id": "wXXpakXmDQz9",
        "outputId": "78d77166-946a-428d-9339-070cd78ec747"
      },
      "outputs": [
        {
          "output_type": "stream",
          "name": "stdout",
          "text": [
            "   instant      dteday  season  yr  mnth  hr  holiday  weekday  workingday  \\\n",
            "0        1  2011-01-01       1   0     1   0        0        6           0   \n",
            "1        2  2011-01-01       1   0     1   1        0        6           0   \n",
            "2        3  2011-01-01       1   0     1   2        0        6           0   \n",
            "3        4  2011-01-01       1   0     1   3        0        6           0   \n",
            "4        5  2011-01-01       1   0     1   4        0        6           0   \n",
            "\n",
            "   weathersit  temp   atemp   hum  windspeed  casual  registered  count  \n",
            "0           1  0.24  0.2879  0.81        0.0       3          13     16  \n",
            "1           1  0.22  0.2727  0.80        0.0       8          32     40  \n",
            "2           1  0.22  0.2727  0.80        0.0       5          27     32  \n",
            "3           1  0.24  0.2879  0.75        0.0       3          10     13  \n",
            "4           1  0.24  0.2879  0.75        0.0       0           1      1  \n"
          ]
        }
      ],
      "source": [
        "import pandas as pd\n",
        "hour=pd.read_csv('hour.csv')\n",
        "print (hour.head())"
      ]
    }
  ]
}